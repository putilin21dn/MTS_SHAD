{
 "cells": [
  {
   "cell_type": "markdown",
   "metadata": {},
   "source": [
    "## Установка библиотек"
   ]
  },
  {
   "cell_type": "code",
   "execution_count": 71,
   "metadata": {},
   "outputs": [],
   "source": [
    "import pandas as pd\n",
    "import scipy.stats as st\n",
    "import matplotlib.pyplot as plt\n",
    "import seaborn as sns\n",
    "import numpy as np\n",
    "from tqdm import tqdm"
   ]
  },
  {
   "cell_type": "code",
   "execution_count": 3,
   "metadata": {},
   "outputs": [],
   "source": [
    "data = pd.read_csv('data/streaming_viewership_data.csv')"
   ]
  },
  {
   "cell_type": "code",
   "execution_count": 4,
   "metadata": {},
   "outputs": [
    {
     "data": {
      "text/html": [
       "<div>\n",
       "<style scoped>\n",
       "    .dataframe tbody tr th:only-of-type {\n",
       "        vertical-align: middle;\n",
       "    }\n",
       "\n",
       "    .dataframe tbody tr th {\n",
       "        vertical-align: top;\n",
       "    }\n",
       "\n",
       "    .dataframe thead th {\n",
       "        text-align: right;\n",
       "    }\n",
       "</style>\n",
       "<table border=\"1\" class=\"dataframe\">\n",
       "  <thead>\n",
       "    <tr style=\"text-align: right;\">\n",
       "      <th></th>\n",
       "      <th>User_ID</th>\n",
       "      <th>Session_ID</th>\n",
       "      <th>Device_ID</th>\n",
       "      <th>Video_ID</th>\n",
       "      <th>Duration_Watched (minutes)</th>\n",
       "      <th>Genre</th>\n",
       "      <th>Country</th>\n",
       "      <th>Age</th>\n",
       "      <th>Gender</th>\n",
       "      <th>Subscription_Status</th>\n",
       "      <th>Ratings</th>\n",
       "      <th>Languages</th>\n",
       "      <th>Device_Type</th>\n",
       "      <th>Location</th>\n",
       "      <th>Playback_Quality</th>\n",
       "      <th>Interaction_Events</th>\n",
       "    </tr>\n",
       "  </thead>\n",
       "  <tbody>\n",
       "    <tr>\n",
       "      <th>0</th>\n",
       "      <td>eb4f9229-74df-45f6-baac-cf19241b8b30</td>\n",
       "      <td>cb2142a7-0750-49ed-b8ac-a975fe1ff69a</td>\n",
       "      <td>232</td>\n",
       "      <td>11</td>\n",
       "      <td>90.044525</td>\n",
       "      <td>Sci-Fi</td>\n",
       "      <td>Sudan</td>\n",
       "      <td>56</td>\n",
       "      <td>Female</td>\n",
       "      <td>Premium</td>\n",
       "      <td>3</td>\n",
       "      <td>Spanish</td>\n",
       "      <td>Smartphone</td>\n",
       "      <td>Reedshire</td>\n",
       "      <td>4K</td>\n",
       "      <td>73</td>\n",
       "    </tr>\n",
       "    <tr>\n",
       "      <th>1</th>\n",
       "      <td>661d4b59-4328-410a-901c-1e3b4c40c334</td>\n",
       "      <td>3bc0a662-b353-4015-8b0c-55ceb510d13a</td>\n",
       "      <td>549</td>\n",
       "      <td>85</td>\n",
       "      <td>68.973479</td>\n",
       "      <td>Comedy</td>\n",
       "      <td>Cuba</td>\n",
       "      <td>52</td>\n",
       "      <td>Male</td>\n",
       "      <td>Premium</td>\n",
       "      <td>3</td>\n",
       "      <td>Chinese</td>\n",
       "      <td>Desktop</td>\n",
       "      <td>Stevenhaven</td>\n",
       "      <td>SD</td>\n",
       "      <td>22</td>\n",
       "    </tr>\n",
       "    <tr>\n",
       "      <th>2</th>\n",
       "      <td>dd3fe9e9-ea82-4891-ab93-8a47c80e3251</td>\n",
       "      <td>bd545b4a-9f54-4e87-b9f8-15ae20b44f22</td>\n",
       "      <td>844</td>\n",
       "      <td>50</td>\n",
       "      <td>42.511343</td>\n",
       "      <td>Comedy</td>\n",
       "      <td>Japan</td>\n",
       "      <td>14</td>\n",
       "      <td>Female</td>\n",
       "      <td>Premium</td>\n",
       "      <td>3</td>\n",
       "      <td>Spanish</td>\n",
       "      <td>Tablet</td>\n",
       "      <td>Vaughntown</td>\n",
       "      <td>HD</td>\n",
       "      <td>41</td>\n",
       "    </tr>\n",
       "    <tr>\n",
       "      <th>3</th>\n",
       "      <td>a1b3365b-1d00-4ddf-bc43-02fc9c10c680</td>\n",
       "      <td>0441086d-c59e-478d-a496-5c5b995ecfdb</td>\n",
       "      <td>201</td>\n",
       "      <td>38</td>\n",
       "      <td>53.316660</td>\n",
       "      <td>Documentary</td>\n",
       "      <td>Lao People's Democratic Republic</td>\n",
       "      <td>36</td>\n",
       "      <td>Male</td>\n",
       "      <td>Premium</td>\n",
       "      <td>2</td>\n",
       "      <td>Spanish</td>\n",
       "      <td>Laptop</td>\n",
       "      <td>East Raymondbury</td>\n",
       "      <td>SD</td>\n",
       "      <td>40</td>\n",
       "    </tr>\n",
       "    <tr>\n",
       "      <th>4</th>\n",
       "      <td>338d3f91-5f1c-4590-8803-324901826406</td>\n",
       "      <td>0295f01d-7f15-4799-856c-90c688697ef8</td>\n",
       "      <td>700</td>\n",
       "      <td>31</td>\n",
       "      <td>69.437786</td>\n",
       "      <td>Action</td>\n",
       "      <td>Bangladesh</td>\n",
       "      <td>31</td>\n",
       "      <td>Male</td>\n",
       "      <td>Premium</td>\n",
       "      <td>4</td>\n",
       "      <td>German</td>\n",
       "      <td>Laptop</td>\n",
       "      <td>Michaelchester</td>\n",
       "      <td>HD</td>\n",
       "      <td>41</td>\n",
       "    </tr>\n",
       "  </tbody>\n",
       "</table>\n",
       "</div>"
      ],
      "text/plain": [
       "                                User_ID                            Session_ID  \\\n",
       "0  eb4f9229-74df-45f6-baac-cf19241b8b30  cb2142a7-0750-49ed-b8ac-a975fe1ff69a   \n",
       "1  661d4b59-4328-410a-901c-1e3b4c40c334  3bc0a662-b353-4015-8b0c-55ceb510d13a   \n",
       "2  dd3fe9e9-ea82-4891-ab93-8a47c80e3251  bd545b4a-9f54-4e87-b9f8-15ae20b44f22   \n",
       "3  a1b3365b-1d00-4ddf-bc43-02fc9c10c680  0441086d-c59e-478d-a496-5c5b995ecfdb   \n",
       "4  338d3f91-5f1c-4590-8803-324901826406  0295f01d-7f15-4799-856c-90c688697ef8   \n",
       "\n",
       "   Device_ID  Video_ID  Duration_Watched (minutes)        Genre  \\\n",
       "0        232        11                   90.044525       Sci-Fi   \n",
       "1        549        85                   68.973479       Comedy   \n",
       "2        844        50                   42.511343       Comedy   \n",
       "3        201        38                   53.316660  Documentary   \n",
       "4        700        31                   69.437786       Action   \n",
       "\n",
       "                            Country  Age  Gender Subscription_Status  Ratings  \\\n",
       "0                             Sudan   56  Female             Premium        3   \n",
       "1                              Cuba   52    Male             Premium        3   \n",
       "2                             Japan   14  Female             Premium        3   \n",
       "3  Lao People's Democratic Republic   36    Male             Premium        2   \n",
       "4                        Bangladesh   31    Male             Premium        4   \n",
       "\n",
       "  Languages Device_Type          Location Playback_Quality  Interaction_Events  \n",
       "0   Spanish  Smartphone         Reedshire               4K                  73  \n",
       "1   Chinese     Desktop       Stevenhaven               SD                  22  \n",
       "2   Spanish      Tablet        Vaughntown               HD                  41  \n",
       "3   Spanish      Laptop  East Raymondbury               SD                  40  \n",
       "4    German      Laptop    Michaelchester               HD                  41  "
      ]
     },
     "execution_count": 4,
     "metadata": {},
     "output_type": "execute_result"
    }
   ],
   "source": [
    "data.head()"
   ]
  },
  {
   "cell_type": "code",
   "execution_count": 5,
   "metadata": {},
   "outputs": [
    {
     "name": "stdout",
     "output_type": "stream",
     "text": [
      "<class 'pandas.core.frame.DataFrame'>\n",
      "RangeIndex: 6214 entries, 0 to 6213\n",
      "Data columns (total 16 columns):\n",
      " #   Column                      Non-Null Count  Dtype  \n",
      "---  ------                      --------------  -----  \n",
      " 0   User_ID                     6214 non-null   object \n",
      " 1   Session_ID                  6214 non-null   object \n",
      " 2   Device_ID                   6214 non-null   int64  \n",
      " 3   Video_ID                    6214 non-null   int64  \n",
      " 4   Duration_Watched (minutes)  6214 non-null   float64\n",
      " 5   Genre                       6214 non-null   object \n",
      " 6   Country                     6214 non-null   object \n",
      " 7   Age                         6214 non-null   int64  \n",
      " 8   Gender                      6214 non-null   object \n",
      " 9   Subscription_Status         6214 non-null   object \n",
      " 10  Ratings                     6214 non-null   int64  \n",
      " 11  Languages                   6214 non-null   object \n",
      " 12  Device_Type                 6214 non-null   object \n",
      " 13  Location                    6214 non-null   object \n",
      " 14  Playback_Quality            6214 non-null   object \n",
      " 15  Interaction_Events          6214 non-null   int64  \n",
      "dtypes: float64(1), int64(5), object(10)\n",
      "memory usage: 776.9+ KB\n"
     ]
    }
   ],
   "source": [
    "data.info()"
   ]
  },
  {
   "cell_type": "markdown",
   "metadata": {},
   "source": [
    "## Пункт 1"
   ]
  },
  {
   "cell_type": "markdown",
   "metadata": {},
   "source": [
    "Разделим данные на мужчин и женщин"
   ]
  },
  {
   "cell_type": "code",
   "execution_count": 12,
   "metadata": {},
   "outputs": [],
   "source": [
    "male_df = data[data['Gender'] == 'Male']\n",
    "female_df = data[data['Gender'] == 'Female']"
   ]
  },
  {
   "cell_type": "markdown",
   "metadata": {},
   "source": [
    "#### Проверим равенство медиан для времени просмотра видео (непрерывное)"
   ]
  },
  {
   "cell_type": "code",
   "execution_count": 16,
   "metadata": {},
   "outputs": [
    {
     "data": {
      "text/plain": [
       "61.055089124999995"
      ]
     },
     "execution_count": 16,
     "metadata": {},
     "output_type": "execute_result"
    }
   ],
   "source": [
    "male_df['Duration_Watched (minutes)'].median()"
   ]
  },
  {
   "cell_type": "code",
   "execution_count": 17,
   "metadata": {},
   "outputs": [
    {
     "data": {
      "text/plain": [
       "60.42511731"
      ]
     },
     "execution_count": 17,
     "metadata": {},
     "output_type": "execute_result"
    }
   ],
   "source": [
    "female_df['Duration_Watched (minutes)'].median()"
   ]
  },
  {
   "cell_type": "code",
   "execution_count": 19,
   "metadata": {},
   "outputs": [
    {
     "name": "stdout",
     "output_type": "stream",
     "text": [
      "\n",
      "Не можем отвергнуть H0\n"
     ]
    }
   ],
   "source": [
    "alpha = 0.05\n",
    "\n",
    "_, p = st.mannwhitneyu(male_df['Duration_Watched (minutes)'], female_df['Duration_Watched (minutes)'])\n",
    "\n",
    "if p > alpha:\n",
    "    print(\"\\nНе можем отвергнуть H0\")\n",
    "else:\n",
    "    print(\"\\nОтвергаем H0\")"
   ]
  },
  {
   "cell_type": "code",
   "execution_count": 23,
   "metadata": {},
   "outputs": [
    {
     "data": {
      "image/png": "[encoded data removed]",
      "text/plain": [
       "<Figure size 640x480 with 1 Axes>"
      ]
     },
     "metadata": {},
     "output_type": "display_data"
    }
   ],
   "source": [
    "sns.histplot(male_df['Duration_Watched (minutes)'].values, fill=True)\n",
    "sns.histplot(female_df['Duration_Watched (minutes)'].values, fill=True);"
   ]
  },
  {
   "cell_type": "markdown",
   "metadata": {},
   "source": [
    "## Пункт 2\n",
    "#### Проверим равенство распределений"
   ]
  },
  {
   "cell_type": "code",
   "execution_count": 92,
   "metadata": {},
   "outputs": [
    {
     "name": "stdout",
     "output_type": "stream",
     "text": [
      "\n",
      "Не можем отвергнуть H0\n"
     ]
    },
    {
     "data": {
      "text/plain": [
       "0.9839426548054078"
      ]
     },
     "execution_count": 92,
     "metadata": {},
     "output_type": "execute_result"
    }
   ],
   "source": [
    "_, p = st.ks_2samp(male_df['Duration_Watched (minutes)'], female_df['Duration_Watched (minutes)'])\n",
    "\n",
    "if p > alpha:\n",
    "    print(\"\\nНе можем отвергнуть H0\")\n",
    "else:\n",
    "    print(\"\\nОтвергаем H0\")\n",
    "\n",
    "p"
   ]
  },
  {
   "cell_type": "code",
   "execution_count": 26,
   "metadata": {},
   "outputs": [
    {
     "data": {
      "image/png": "[encoded data removed]",
      "text/plain": [
       "<Figure size 640x480 with 1 Axes>"
      ]
     },
     "metadata": {},
     "output_type": "display_data"
    }
   ],
   "source": [
    "sns.kdeplot(male_df['Duration_Watched (minutes)'], fill=True)\n",
    "sns.kdeplot(female_df['Duration_Watched (minutes)'], fill=True);"
   ]
  },
  {
   "cell_type": "markdown",
   "metadata": {},
   "source": [
    "## Пункт 3\n",
    "#### Проверим равенство медиан для качества просмотра видео (дискретное)"
   ]
  },
  {
   "cell_type": "code",
   "execution_count": 32,
   "metadata": {},
   "outputs": [],
   "source": [
    "male_pq = np.array(male_df['Playback_Quality'].value_counts())\n",
    "female_pq = np.array(female_df['Playback_Quality'].value_counts())"
   ]
  },
  {
   "cell_type": "code",
   "execution_count": 33,
   "metadata": {},
   "outputs": [
    {
     "data": {
      "text/plain": [
       "(array([1045, 1019, 1002]), array([1054, 1047, 1047]))"
      ]
     },
     "execution_count": 33,
     "metadata": {},
     "output_type": "execute_result"
    }
   ],
   "source": [
    "male_pq, female_pq"
   ]
  },
  {
   "cell_type": "code",
   "execution_count": 34,
   "metadata": {},
   "outputs": [
    {
     "name": "stdout",
     "output_type": "stream",
     "text": [
      "\n",
      "Не можем отвергнуть H0\n"
     ]
    }
   ],
   "source": [
    "_, p = st.mannwhitneyu(male_pq, female_pq)\n",
    "\n",
    "if p > alpha:\n",
    "    print(\"\\nНе можем отвергнуть H0\")\n",
    "else:\n",
    "    print(\"\\nОтвергаем H0\")"
   ]
  },
  {
   "cell_type": "code",
   "execution_count": 36,
   "metadata": {},
   "outputs": [
    {
     "data": {
      "text/plain": [
       "0.07652250047505922"
      ]
     },
     "execution_count": 36,
     "metadata": {},
     "output_type": "execute_result"
    }
   ],
   "source": [
    "p"
   ]
  },
  {
   "cell_type": "markdown",
   "metadata": {},
   "source": [
    "## Пункт 4\n",
    "#### Теперь посмотрим на равенство распределений"
   ]
  },
  {
   "cell_type": "code",
   "execution_count": 56,
   "metadata": {},
   "outputs": [
    {
     "name": "stdout",
     "output_type": "stream",
     "text": [
      "\n",
      "Не можем отвергнуть H0\n"
     ]
    },
    {
     "data": {
      "text/plain": [
       "0.8502975924064989"
      ]
     },
     "execution_count": 56,
     "metadata": {},
     "output_type": "execute_result"
    }
   ],
   "source": [
    "p = st.chi2_contingency([male_pq, female_pq])[1]\n",
    "\n",
    "if p > alpha:\n",
    "    print(\"\\nНе можем отвергнуть H0\")\n",
    "else:\n",
    "    print(\"\\nОтвергаем H0\")\n",
    "\n",
    "p"
   ]
  },
  {
   "cell_type": "markdown",
   "metadata": {},
   "source": [
    "#### Проверка релевантными тестами"
   ]
  },
  {
   "cell_type": "code",
   "execution_count": 62,
   "metadata": {},
   "outputs": [
    {
     "name": "stdout",
     "output_type": "stream",
     "text": [
      "\n",
      "Не можем отвергнуть H0\n"
     ]
    }
   ],
   "source": [
    "_, p = st.kruskal(male_df['Duration_Watched (minutes)'], female_df['Duration_Watched (minutes)'])\n",
    "\n",
    "if p > alpha:\n",
    "    print(\"\\nНе можем отвергнуть H0\")\n",
    "else:\n",
    "    print(\"\\nОтвергаем H0\")"
   ]
  },
  {
   "cell_type": "markdown",
   "metadata": {},
   "source": [
    "В данном случае взяли критерий Краскела — Уоллиса, как альтернатива U-теста"
   ]
  },
  {
   "cell_type": "code",
   "execution_count": 68,
   "metadata": {},
   "outputs": [
    {
     "name": "stdout",
     "output_type": "stream",
     "text": [
      "\n",
      "Не можем отвергнуть H0\n"
     ]
    }
   ],
   "source": [
    "p = st.median_test(male_df['Duration_Watched (minutes)'], female_df['Duration_Watched (minutes)'])[1]\n",
    "\n",
    "if p > alpha:\n",
    "    print(\"\\nНе можем отвергнуть H0\")\n",
    "else:\n",
    "    print(\"\\nОтвергаем H0\")"
   ]
  },
  {
   "cell_type": "markdown",
   "metadata": {},
   "source": [
    "В данном случае взяли критерий Муда, как альтернатива теста Колмогорова-Смирнова, так как в нем проходит сравнение равенства медиан"
   ]
  },
  {
   "cell_type": "code",
   "execution_count": 69,
   "metadata": {},
   "outputs": [
    {
     "name": "stdout",
     "output_type": "stream",
     "text": [
      "\n",
      "Не можем отвергнуть H0\n"
     ]
    }
   ],
   "source": [
    "p = st.median_test(male_pq,female_pq)[1]\n",
    "\n",
    "if p > alpha:\n",
    "    print(\"\\nНе можем отвергнуть H0\")\n",
    "else:\n",
    "    print(\"\\nОтвергаем H0\")"
   ]
  },
  {
   "cell_type": "code",
   "execution_count": 70,
   "metadata": {},
   "outputs": [
    {
     "name": "stdout",
     "output_type": "stream",
     "text": [
      "\n",
      "Не можем отвергнуть H0\n"
     ]
    }
   ],
   "source": [
    "p = st.mannwhitneyu(male_pq,female_pq)[1]\n",
    "\n",
    "if p > alpha:\n",
    "    print(\"\\nНе можем отвергнуть H0\")\n",
    "else:\n",
    "    print(\"\\nОтвергаем H0\")"
   ]
  },
  {
   "cell_type": "markdown",
   "metadata": {},
   "source": [
    "## Пункт 5"
   ]
  },
  {
   "cell_type": "code",
   "execution_count": 100,
   "metadata": {},
   "outputs": [
    {
     "name": "stderr",
     "output_type": "stream",
     "text": [
      "100%|██████████| 10000/10000 [00:21<00:00, 467.77it/s]\n"
     ]
    },
    {
     "name": "stdout",
     "output_type": "stream",
     "text": [
      "0.0551\n"
     ]
    },
    {
     "data": {
      "image/png": "[encoded data removed]",
      "text/plain": [
       "<Figure size 640x480 with 1 Axes>"
      ]
     },
     "metadata": {},
     "output_type": "display_data"
    }
   ],
   "source": [
    "pvals = []\n",
    "for _ in tqdm(range(10000)):\n",
    "    a = np.random.choice(male_df['Duration_Watched (minutes)'], 1000)\n",
    "    b = np.random.choice(female_df['Duration_Watched (minutes)'], 1000)\n",
    "    pvals.append(st.mannwhitneyu(a,b).pvalue)\n",
    "print((np.array(pvals) < 0.05).mean())\n",
    "\n",
    "sns.histplot(pvals);"
   ]
  },
  {
   "cell_type": "markdown",
   "metadata": {},
   "source": [
    "В данном случае бустрап предпочтительнее, так как мы не знаем дисперсии наших выборок, и на единичном тесте тест может дать ошибку. "
   ]
  },
  {
   "cell_type": "code",
   "execution_count": 98,
   "metadata": {},
   "outputs": [
    {
     "name": "stderr",
     "output_type": "stream",
     "text": [
      "100%|██████████| 10000/10000 [00:06<00:00, 1444.50it/s]\n"
     ]
    },
    {
     "name": "stdout",
     "output_type": "stream",
     "text": [
      "0.0727\n"
     ]
    },
    {
     "data": {
      "image/png": "[encoded data removed]",
      "text/plain": [
       "<Figure size 640x480 with 1 Axes>"
      ]
     },
     "metadata": {},
     "output_type": "display_data"
    }
   ],
   "source": [
    "pvals = []\n",
    "for _ in tqdm(range(10000)):\n",
    "    a = np.random.choice(male_df['Duration_Watched (minutes)'], 1000)\n",
    "    b = np.random.choice(female_df['Duration_Watched (minutes)'], 1000)\n",
    "    pvals.append(st.ks_2samp(a,b).pvalue)\n",
    "print((np.array(pvals) < 0.05).mean())\n",
    "\n",
    "sns.histplot(pvals);"
   ]
  },
  {
   "cell_type": "markdown",
   "metadata": {},
   "source": [
    "Равнозначно применение двух методов "
   ]
  },
  {
   "cell_type": "code",
   "execution_count": 96,
   "metadata": {},
   "outputs": [
    {
     "name": "stderr",
     "output_type": "stream",
     "text": [
      "100%|██████████| 10000/10000 [00:09<00:00, 1017.57it/s]"
     ]
    },
    {
     "name": "stdout",
     "output_type": "stream",
     "text": [
      "0.0367\n"
     ]
    },
    {
     "name": "stderr",
     "output_type": "stream",
     "text": [
      "\n"
     ]
    }
   ],
   "source": [
    "pvals = []\n",
    "\n",
    "for _ in tqdm(range(10000)):\n",
    "    a = np.random.choice(male_pq, 3)\n",
    "    b = np.random.choice(female_pq, 3)\n",
    "    pvals.append(st.mannwhitneyu(a,b).pvalue)\n",
    "    \n",
    "print((np.array(pvals) < 0.05).mean())"
   ]
  },
  {
   "cell_type": "code",
   "execution_count": 97,
   "metadata": {},
   "outputs": [
    {
     "name": "stderr",
     "output_type": "stream",
     "text": [
      "100%|██████████| 10000/10000 [00:00<00:00, 12866.89it/s]"
     ]
    },
    {
     "name": "stdout",
     "output_type": "stream",
     "text": [
      "0.0\n"
     ]
    },
    {
     "name": "stderr",
     "output_type": "stream",
     "text": [
      "\n"
     ]
    }
   ],
   "source": [
    "pvals = []\n",
    "\n",
    "for _ in tqdm(range(10000)):\n",
    "    a = np.random.choice(male_pq, 3)\n",
    "    b = np.random.choice(female_pq, 3)\n",
    "    pvals.append(st.chi2_contingency(a,b).pvalue)\n",
    "    \n",
    "print((np.array(pvals) < 0.05).mean())"
   ]
  },
  {
   "cell_type": "markdown",
   "metadata": {},
   "source": [
    "Для дискретного распределения подход бустрепа мощнее, так как он позволяет отойти  от малого количества данных"
   ]
  }
 ],
 "metadata": {
  "kernelspec": {
   "display_name": "Python 3 (ipykernel)",
   "language": "python",
   "name": "python3"
  },
  "language_info": {
   "codemirror_mode": {
    "name": "ipython",
    "version": 3
   },
   "file_extension": ".py",
   "mimetype": "text/x-python",
   "name": "python",
   "nbconvert_exporter": "python",
   "pygments_lexer": "ipython3",
   "version": "3.10.12"
  }
 },
 "nbformat": 4,
 "nbformat_minor": 4
}
