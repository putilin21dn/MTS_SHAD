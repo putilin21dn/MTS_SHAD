{
 "cells": [
  {
   "cell_type": "markdown",
   "metadata": {
    "id": "Xj_j1Ibc6376"
   },
   "source": [
    "# Домашнее задание 2 по ML\n",
    "Нужно написать python класс градиентного бустинга и побить другую модель на предоставленном baseline\n",
    "\n",
    "## Критерии оценки\n",
    "- Ваш ноутбук будет запущен через ```run all``` - он не должен упасть (допускается падение из-за отсутствия библиотеки, которую можно поставить через pip install)\n",
    "- Вот этот код (внизу ноутбука) ```assert imp_my_little_model > imp_baseline_model``` не вызвал ошибок (успешно отработал)\n",
    "\n",
    "- реализованы следующие гиперпараметры\n",
    "  - вы реализовали гиперпараметр ```learning_rate```\n",
    "  - вы реализовали гиперпараметр ```n_estimators```\n",
    "  - вы реализовали гиперпараметр ```max_depth```\n",
    "  - вы реализовали гиперпараметр ```bagging_fraction```\n",
    "\n",
    "- Вы реализовали [Huber loss function](https://ru.wikipedia.org/wiki/%D0%A4%D1%83%D0%BD%D0%BA%D1%86%D0%B8%D1%8F_%D0%BF%D0%BE%D1%82%D0%B5%D1%80%D1%8C_%D0%A5%D1%8C%D1%8E%D0%B1%D0%B5%D1%80%D0%B0) - она записана как отдельная def функция вне класса - и используется в вашем классе для расчета\n",
    "\n",
    "----\n",
    "*Для успешной сдачи дз нужно выполнить полностью каждый пункт выше*\n",
    "\n",
    "- оценка 5 будет поставлена, если каждый пункт выполнен без недочетов\n",
    "- оценка 4 будет поставлена, если будет найден один недочет\n",
    "- незачет будет пославлен, если недочетов будет два или более\n",
    "- незачет будет пославлен, если какой либо пункт не выполнен\n"
   ]
  },
  {
   "cell_type": "code",
   "execution_count": 1,
   "metadata": {
    "colab": {
     "base_uri": "https://localhost:8080/",
     "height": 35
    },
    "id": "1YyKnF4T6e5Y",
    "outputId": "a6bce8ec-dc21-4cca-c1df-9746c7c0e2d5"
   },
   "outputs": [
    {
     "data": {
      "application/javascript": [
       "IPython.notebook.set_autosave_interval(60000)"
      ]
     },
     "metadata": {},
     "output_type": "display_data"
    },
    {
     "name": "stdout",
     "output_type": "stream",
     "text": [
      "Autosaving every 60 seconds\n"
     ]
    }
   ],
   "source": [
    "%autosave 60"
   ]
  },
  {
   "cell_type": "code",
   "execution_count": 47,
   "metadata": {
    "id": "Fuou3iRh67G-"
   },
   "outputs": [
    {
     "name": "stdout",
     "output_type": "stream",
     "text": [
      "Defaulting to user installation because normal site-packages is not writeable\n",
      "Requirement already satisfied: shap in /home/dmitry/.local/lib/python3.10/site-packages (0.45.0)\n",
      "Requirement already satisfied: tqdm>=4.27.0 in /home/dmitry/.local/lib/python3.10/site-packages (from shap) (4.66.0)\n",
      "Requirement already satisfied: packaging>20.9 in /home/dmitry/.local/lib/python3.10/site-packages (from shap) (23.1)\n",
      "Requirement already satisfied: scikit-learn in /usr/local/lib/python3.10/dist-packages (from shap) (1.2.2)\n",
      "Requirement already satisfied: slicer==0.0.7 in /home/dmitry/.local/lib/python3.10/site-packages (from shap) (0.0.7)\n",
      "Requirement already satisfied: numba in /home/dmitry/.local/lib/python3.10/site-packages (from shap) (0.59.1)\n",
      "Requirement already satisfied: pandas in /home/dmitry/.local/lib/python3.10/site-packages (from shap) (2.0.2)\n",
      "Requirement already satisfied: scipy in /usr/local/lib/python3.10/dist-packages (from shap) (1.10.1)\n",
      "Requirement already satisfied: cloudpickle in /home/dmitry/.local/lib/python3.10/site-packages (from shap) (3.0.0)\n",
      "Requirement already satisfied: numpy in /usr/local/lib/python3.10/dist-packages (from shap) (1.25.0)\n",
      "Requirement already satisfied: llvmlite<0.43,>=0.42.0dev0 in /home/dmitry/.local/lib/python3.10/site-packages (from numba->shap) (0.42.0)\n",
      "Requirement already satisfied: pytz>=2020.1 in /usr/lib/python3/dist-packages (from pandas->shap) (2022.1)\n",
      "Requirement already satisfied: tzdata>=2022.1 in /home/dmitry/.local/lib/python3.10/site-packages (from pandas->shap) (2023.3)\n",
      "Requirement already satisfied: python-dateutil>=2.8.2 in /home/dmitry/.local/lib/python3.10/site-packages (from pandas->shap) (2.8.2)\n",
      "Requirement already satisfied: joblib>=1.1.1 in /usr/local/lib/python3.10/dist-packages (from scikit-learn->shap) (1.2.0)\n",
      "Requirement already satisfied: threadpoolctl>=2.0.0 in /usr/local/lib/python3.10/dist-packages (from scikit-learn->shap) (3.1.0)\n",
      "Requirement already satisfied: six>=1.5 in /home/dmitry/.local/lib/python3.10/site-packages (from python-dateutil>=2.8.2->pandas->shap) (1.12.0)\n"
     ]
    }
   ],
   "source": [
    "# !pip install shap\n",
    "\n",
    "import numpy as np\n",
    "import shap\n",
    "\n",
    "from sklearn.model_selection import train_test_split\n",
    "from sklearn.ensemble import RandomForestRegressor, GradientBoostingRegressor\n",
    "from sklearn.metrics import mean_absolute_percentage_error\n",
    "from sklearn.tree import DecisionTreeRegressor\n",
    "import matplotlib.pyplot as plt"
   ]
  },
  {
   "cell_type": "code",
   "execution_count": 4,
   "metadata": {
    "id": "TSWaYEYyT0iV"
   },
   "outputs": [],
   "source": [
    "np.random.seed(42)"
   ]
  },
  {
   "cell_type": "code",
   "execution_count": 5,
   "metadata": {
    "id": "M4B4Ep5U68x5"
   },
   "outputs": [],
   "source": [
    "data, target = shap.datasets.california()\n",
    "X_train, X_test, y_train, y_test = train_test_split(data, target, test_size=0.2, random_state=42)"
   ]
  },
  {
   "cell_type": "markdown",
   "metadata": {
    "id": "A6-T1zHhWl69"
   },
   "source": [
    "### Не меняйте название для предскзаний preds_my_little_model, иначе не получится сдать это ДЗ (сломается код)\n",
    "\n",
    "Некоторые правила\n",
    "- Нельзя использовать никакие другие алгоритмы моделей внутри вашего класса, кроме DecisionTreeRegressor.\n",
    "- Код вашего бустинга должен быть написан в классе, у класса должно быть два ожидаемых метода : ```fit``` и ```predict```.\n",
    "- Нельзя менять датасет (и модифицировать тоже, например заполнять nan или применять scaler) или baseline модель\n",
    "- Нельзя поднимать число n_estimators вашей модели выше 100 (чтобы результат был сравним с моделью-конкурентом ```GradientBoostingRegressor```)"
   ]
  },
  {
   "cell_type": "markdown",
   "metadata": {
    "id": "61wEAl-UIA4u"
   },
   "source": [
    "# *это место для вашего кода* ↓↓↓\n"
   ]
  },
  {
   "cell_type": "code",
   "execution_count": 54,
   "metadata": {
    "id": "5ahK530JP-TV"
   },
   "outputs": [],
   "source": [
    "def huber_loss(Y_true, Y_pred, delta=1.):\n",
    "    return np.array([\n",
    "    0.5* (y_true - y_pred)**2 if np.abs(y_true - y_pred) <= delta   \n",
    "    else delta * (np.abs(y_true-y_pred) - 0.5*delta)\n",
    "    for y_true, y_pred in zip(Y_true,Y_pred)]\n",
    "    )\n",
    "    \n",
    "def grad_huber_loss(Y_true, Y_pred, delta=1.):\n",
    "    return np.array([\n",
    "    -(y_true - y_pred) if np.abs(y_true - y_pred) <= delta   \n",
    "    else -delta * np.sign(y_true-y_pred) \n",
    "    for y_true, y_pred in zip(Y_true,Y_pred)]\n",
    "    )"
   ]
  },
  {
   "cell_type": "code",
   "execution_count": 93,
   "metadata": {
    "id": "PPwM5ru6ITFw"
   },
   "outputs": [],
   "source": [
    "class MyGradBoosting:\n",
    "    def __init__(\n",
    "        self,\n",
    "        learning_rate=0.1,\n",
    "        n_estimators=100,\n",
    "        max_depth=5,\n",
    "        random_state=10,\n",
    "        bagging_fraction=0.75\n",
    "    ):\n",
    "        self.learning_rate = learning_rate\n",
    "        self.n_estimators = n_estimators\n",
    "        self.max_depth = max_depth\n",
    "        self.random_state = random_state\n",
    "        self.bagging_fraction = bagging_fraction\n",
    "\n",
    "\n",
    "    def fit(self, X, y):\n",
    "\n",
    "        self.models = []\n",
    "        self.losses = []\n",
    "        self.y_mean = np.mean(y)\n",
    "\n",
    "\n",
    "        pred = np.ones(X.shape[0]) * self.y_mean\n",
    "        self.losses.append(np.mean(huber_loss(y,pred)))\n",
    "    \n",
    "\n",
    "        for _ in range(self.n_estimators):\n",
    "            grad = -1 * grad_huber_loss(y, pred)\n",
    "\n",
    "            indices = np.random.RandomState(self.random_state).randint(0, len(X), size=int(self.bagging_fraction*len(X)))\n",
    "            X_ = X.iloc[indices]\n",
    "            y_ = grad[indices]\n",
    "\n",
    "            model = DecisionTreeRegressor(max_depth=self.max_depth)\n",
    "            model = model.fit(X_,y_)\n",
    "            \n",
    "            \n",
    "            pred += self.learning_rate*model.predict(X)\n",
    "\n",
    "            self.models.append(model)\n",
    "            self.losses.append(np.mean(huber_loss(y, pred)))\n",
    "\n",
    "        \n",
    "        return self\n",
    "\n",
    "    def predict(self, samples):\n",
    "\n",
    "        predictions = np.ones(len(samples)) * self.y_mean\n",
    "\n",
    "        for model in self.models:\n",
    "            predictions += self.learning_rate * model.predict(samples)\n",
    "        \n",
    "        return predictions"
   ]
  },
  {
   "cell_type": "code",
   "execution_count": 94,
   "metadata": {
    "id": "jDMV0_KfBDEd"
   },
   "outputs": [],
   "source": [
    "my_little_model = MyGradBoosting()\n",
    "my_little_model.fit(X_train, y_train)\n",
    "\n",
    "preds_my_little_model = my_little_model.predict(X_test)"
   ]
  },
  {
   "cell_type": "code",
   "execution_count": 95,
   "metadata": {},
   "outputs": [
    {
     "data": {
      "text/plain": [
       "[<matplotlib.lines.Line2D at 0x76075a349d20>]"
      ]
     },
     "execution_count": 95,
     "metadata": {},
     "output_type": "execute_result"
    },
    {
     "data": {
      "image/png": "[encoded data removed]",
      "text/plain": [
       "<Figure size 640x480 with 1 Axes>"
      ]
     },
     "metadata": {},
     "output_type": "display_data"
    }
   ],
   "source": [
    "plt.plot(np.arange(len(my_little_model.losses)), my_little_model.losses)"
   ]
  },
  {
   "cell_type": "code",
   "execution_count": 96,
   "metadata": {
    "id": "CPzhitJHKdXV"
   },
   "outputs": [],
   "source": [
    "# самопроверки\n",
    "assert preds_my_little_model.shape == y_test.shape, 'что-то не так с выходным размером предикта'"
   ]
  },
  {
   "cell_type": "markdown",
   "metadata": {
    "id": "XekwIQWHIKtE"
   },
   "source": [
    "# *это место для вашего кода* ↑↑↑"
   ]
  },
  {
   "cell_type": "markdown",
   "metadata": {
    "id": "WrLezIsFHUP3"
   },
   "source": [
    "### *ниже ничего менять не нужно*\n",
    "## Это класс судья - он решит, какая модель оказалась лучше, ваша, или GradientBoostingRegressor из sklearn\n",
    "Если ячейка ниже завершилась ошибкой, нужно поменять код вашей модели и попробовать еще раз, до тех пор, пока не получите сообщение \"Ура, получилось!\""
   ]
  },
  {
   "cell_type": "code",
   "execution_count": 97,
   "metadata": {
    "id": "5cwE3WwPBcKu"
   },
   "outputs": [
    {
     "name": "stdout",
     "output_type": "stream",
     "text": [
      "mape - ваша модель 0.19548134238261822\n",
      "mape - baseline 0.2152446498010688\n",
      "Ура, получилось! baseline важность: 0.123; важность вашей модели: 0.877\n"
     ]
    }
   ],
   "source": [
    "baseline_model = GradientBoostingRegressor(random_state=4, verbose=0)\n",
    "baseline_model = baseline_model.fit(X_train, y_train)\n",
    "preds_baseline_model = baseline_model.predict(X_test)\n",
    "print('mape - ваша модель', mean_absolute_percentage_error(y_test, preds_my_little_model))\n",
    "print('mape - baseline', mean_absolute_percentage_error(y_test, preds_baseline_model))\n",
    "\n",
    "final_estimator = RandomForestRegressor(random_state=16)\n",
    "final_estimator = final_estimator.fit(\n",
    "    np.hstack((preds_baseline_model.reshape(-1, 1), preds_my_little_model.reshape(-1, 1))),\n",
    "    y_test\n",
    ")\n",
    "\n",
    "imp_baseline_model, imp_my_little_model = final_estimator.feature_importances_\n",
    "result_message = f\"baseline важность: {imp_baseline_model:0.3f}; важность вашей модели: {imp_my_little_model:0.3f}\"\n",
    "\n",
    "assert imp_my_little_model > imp_baseline_model,  f'попробуй еще раз: {result_message}'\n",
    "print('Ура, получилось!',  result_message)"
   ]
  }
 ],
 "metadata": {
  "colab": {
   "provenance": []
  },
  "kernelspec": {
   "display_name": "Python 3 (ipykernel)",
   "language": "python",
   "name": "python3"
  },
  "language_info": {
   "codemirror_mode": {
    "name": "ipython",
    "version": 3
   },
   "file_extension": ".py",
   "mimetype": "text/x-python",
   "name": "python",
   "nbconvert_exporter": "python",
   "pygments_lexer": "ipython3",
   "version": "3.10.12"
  }
 },
 "nbformat": 4,
 "nbformat_minor": 4
}
